{
 "cells": [
  {
   "cell_type": "markdown",
   "metadata": {},
   "source": [
    "# Demo: Explorando el conjunto de datos de Iris\n",
    "\n",
    "Vamos a empezar este tutorial con una demostración para abrirte el apetito a que quieras aprender más. En esta seccion vamos a revisar rapido muchos conceptos ( por ejemplo, daos, marcas, codificaciones, agregacion, tipos de datos, selecciones, etc.) \n",
    "\n",
    "Mas adelante vamos a regresar a cada uno de estos temas y los vamos a tratar con más profundidad, asi que no te preocupes si parece que vamos demasiado rapido!\n",
    "\n",
    "En el tutorial en vivo, lo vamos a hacer desde cero en un *notebook* en blanco..\n",
    "Pero, por la tranquilidad de quienes quieren revisar lo que hicimos en vivo, voy ( Jake ) a tratar de reproducir los ejemplos y las discusiones aquí."
   ]
  },
  {
   "cell_type": "markdown",
   "metadata": {},
   "source": [
    "## 1. Importaciones y los Datos\n",
    "\n",
    "Empiezo importando el [paquete de Altair](http://altair-viz.github.io/) y activo el renderizador adecuado (si es que fuese necesario):"
   ]
  },
  {
   "cell_type": "code",
   "execution_count": null,
   "metadata": {},
   "outputs": [],
   "source": [
    "import altair as alt\n",
    "\n",
    "# Los gráficos de Altair renderizan por defecto en JupyterLab y nteract\n",
    "\n",
    "# Descomentar/ejecutar esta linea para activar Altair en un notebook clásico (no en JupyterLab)\n",
    "# alt.renderers.enable('notebook')\n",
    "\n",
    "# Descomentar/ejecutar esta linea para activar Altair Colab\n",
    "# alt.renderers.enable('colab')"
   ]
  },
  {
   "cell_type": "markdown",
   "metadata": {},
   "source": [
    "Ahora vamos a usar el paquete con conjuntos de datos ( *datasets* ) [vega_datasets package](https://github.com/altair-viz/vega_datasets), para cargar un *dataset* de ejemplo:"
   ]
  },
  {
   "cell_type": "code",
   "execution_count": null,
   "metadata": {},
   "outputs": [],
   "source": [
    "from vega_datasets import data\n",
    "\n",
    "iris = data.iris()\n",
    "iris.head()"
   ]
  },
  {
   "cell_type": "markdown",
   "metadata": {},
   "source": [
    "Notar que los datos están en formato de columnas: es decir, cada columna contiene un **atributo** de un punto de datos, y cada fila contiene una sola instancia de los datos."
   ]
  },
  {
   "cell_type": "markdown",
   "metadata": {},
   "source": [
    "## 2. Gráficos Cero, Uno, y Dos-dimensional\n",
    "\n",
    "Usando Altair, podemos empezar a explorar los datos.\n",
    "\n",
    "El gráfico más sencillo tiene todos los datos, junto con una marca/símbolo que representa cada fila: "
   ]
  },
  {
   "cell_type": "code",
   "execution_count": null,
   "metadata": {},
   "outputs": [],
   "source": [
    "alt.Chart(iris).mark_point()"
   ]
  },
  {
   "cell_type": "markdown",
   "metadata": {},
   "source": [
    "Éste es un gráfico bastante bobo, porque consiste de 150 puntos, todos amontonados uno arriba de otro. Pero, técnicamente *es* una representación de los datos!\n",
    "\n",
    "Para hacerlo más interesante, necesitamos *codificar* las distintas columnas en características visuales de un gráfico ( ej. posición en el eje __x__, posición en el eje **y**, el tamaño, el color, etc.)\n",
    "\n",
    "Codifiquemos la longitud del pétalo ( *petal length* ) en el eje **x** usando el método ``encode()``:"
   ]
  },
  {
   "cell_type": "code",
   "execution_count": null,
   "metadata": {},
   "outputs": [],
   "source": [
    "alt.Chart(iris).mark_point().encode(\n",
    "    x='petalLength'\n",
    ")"
   ]
  },
  {
   "cell_type": "markdown",
   "metadata": {},
   "source": [
    "Ésto está un poco mejor, pero la marca de ``point`` probablemente no es lo mejor para un gráfico 1D como éste.\n",
    "\n",
    "Usemos la marca ``tick`` en su lugar:"
   ]
  },
  {
   "cell_type": "code",
   "execution_count": null,
   "metadata": {},
   "outputs": [],
   "source": [
    "alt.Chart(iris).mark_tick().encode(\n",
    "    x='petalLength'\n",
    ")"
   ]
  },
  {
   "cell_type": "markdown",
   "metadata": {},
   "source": [
    "Otra cosa que podemos hacer con los puntos es expandirlos a un gráfico 2D, codificando también el valor en __y__. Volvamos a usar los marcadores ``point``, y pongamos ``petalWidth`` (grosor del pétalo) en el eje **y**."
   ]
  },
  {
   "cell_type": "code",
   "execution_count": null,
   "metadata": {},
   "outputs": [],
   "source": [
    "alt.Chart(iris).mark_point().encode(\n",
    "    x='petalLength',\n",
    "    y='petalWidth'\n",
    ")"
   ]
  },
  {
   "cell_type": "markdown",
   "metadata": {},
   "source": [
    "## 3. Interaciones sencillas\n",
    "\n",
    "Una de las mejores características de Altair es la gramática de interacciones que brinda.\n",
    "El tipo de interacción más sencilla es la habilidad de enfocar y ampliar regiones en un gráfico; Altair tiene un atajo para activarla a travez del método ``interactive()``:"
   ]
  },
  {
   "cell_type": "code",
   "execution_count": null,
   "metadata": {},
   "outputs": [],
   "source": [
    "alt.Chart(iris).mark_point().encode(\n",
    "    x='petalLength',\n",
    "    y='petalWidth'\n",
    ").interactive()"
   ]
  },
  {
   "cell_type": "markdown",
   "metadata": {},
   "source": [
    "Ésto les permite hacer *click* y arrastrar, así tambien a usar el _scroll_ para ampliar y reducir regiones en el gráfico.\n",
    "\n",
    "Más adelante vamos a ver otras interacciones."
   ]
  },
  {
   "cell_type": "markdown",
   "metadata": {},
   "source": [
    "## 4. Una tercera dimensión: el Color"
   ]
  },
  {
   "cell_type": "markdown",
   "metadata": {},
   "source": [
    "Un gráfico 2D nos permite codificar dos dimensiones de los datos. Veamos como podemos usar el color para codificar una tercera dimensión:"
   ]
  },
  {
   "cell_type": "code",
   "execution_count": null,
   "metadata": {},
   "outputs": [],
   "source": [
    "alt.Chart(iris).mark_point().encode(\n",
    "    x='petalLength',\n",
    "    y='petalWidth',\n",
    "    color='species'\n",
    ")"
   ]
  },
  {
   "cell_type": "markdown",
   "metadata": {},
   "source": [
    "Noten que al usar un valor categorico para el color, elige el mapa de colores apropiado para datos categóricos.\n",
    "\n",
    "Veamos que pasa su usamos valores continuos para el color:"
   ]
  },
  {
   "cell_type": "code",
   "execution_count": null,
   "metadata": {},
   "outputs": [],
   "source": [
    "alt.Chart(iris).mark_point().encode(\n",
    "    x='petalLength',\n",
    "    y='petalWidth',\n",
    "    color='sepalLength'\n",
    ")"
   ]
  },
  {
   "cell_type": "markdown",
   "metadata": {},
   "source": [
    "Un color continuo resulta en una escala de colores apropiada para datos continuos.\n",
    "\n",
    "Ésta es una característica clave de Altair: elije escalas apropiadas para el tipo de dato. \n",
    "\n",
    "De igual manera, si ponemos un valor categórico en el eje x o y, también va a crear escalas discretas:"
   ]
  },
  {
   "cell_type": "code",
   "execution_count": null,
   "metadata": {},
   "outputs": [],
   "source": [
    "alt.Chart(iris).mark_tick().encode(\n",
    "    x='petalLength',\n",
    "    y='species',\n",
    "    color='species'\n",
    ")"
   ]
  },
  {
   "cell_type": "markdown",
   "metadata": {},
   "source": [
    "Altair tambien puede elegir la orientacion del marcador de manera apropiada, dado el tipo de codificaciones para x e y:"
   ]
  },
  {
   "cell_type": "code",
   "execution_count": null,
   "metadata": {},
   "outputs": [],
   "source": [
    "alt.Chart(iris).mark_tick().encode(\n",
    "    y='petalLength',\n",
    "    x='species',\n",
    "    color='species'\n",
    ")"
   ]
  },
  {
   "cell_type": "markdown",
   "metadata": {},
   "source": [
    "## 5. Bineado y agregación\n",
    "\n",
    "Regresemos rápidamente a nuestro gráfico 1D de las longitudes de los pétalos:"
   ]
  },
  {
   "cell_type": "code",
   "execution_count": null,
   "metadata": {},
   "outputs": [],
   "source": [
    "alt.Chart(iris).mark_tick().encode(\n",
    "    x='petalLength',\n",
    ")"
   ]
  },
  {
   "cell_type": "markdown",
   "metadata": {},
   "source": [
    "Otra forma en la que podemos representar estos datos es con un histograma: agrupar los datos en bloques en el eje **x** y mostrar en el eje __y__ la cantidad de datos que cae en cada bloque.  \n",
    "\n",
    "En muchas librerias gráficas ésto se hace con un método especial como ``hist()``. En Altair, el bineado y la agregación son parte de la API declarativa.\n",
    "\n",
    "Para ir más allá del nombre de un atributo, usamos ``alt.X()`` para codificar en el eje **x**, y usamos ``'count()'`` para codificar en el eje __y__:"
   ]
  },
  {
   "cell_type": "code",
   "execution_count": null,
   "metadata": {},
   "outputs": [],
   "source": [
    "alt.Chart(iris).mark_bar().encode(\n",
    "    x=alt.X('petalLength', bin=True),\n",
    "    y='count()'\n",
    ")"
   ]
  },
  {
   "cell_type": "markdown",
   "metadata": {},
   "source": [
    "Si quicieramos más control sobre los bines, podemos usar ``alt.Bin`` para ajustar sus parámetros."
   ]
  },
  {
   "cell_type": "code",
   "execution_count": null,
   "metadata": {},
   "outputs": [],
   "source": [
    "alt.Chart(iris).mark_bar().encode(\n",
    "    x=alt.X('petalLength', bin=alt.Bin(maxbins=50)),\n",
    "    y='count()'\n",
    ")"
   ]
  },
  {
   "cell_type": "markdown",
   "metadata": {},
   "source": [
    "Si aplicamos otra codificación ( como ``color`` ), los datos se agrupan automáticamente en cada bin:"
   ]
  },
  {
   "cell_type": "code",
   "execution_count": null,
   "metadata": {},
   "outputs": [],
   "source": [
    "alt.Chart(iris).mark_bar().encode(\n",
    "    x=alt.X('petalLength', bin=alt.Bin(maxbins=50)),\n",
    "    y='count()',\n",
    "    color='species'\n",
    ")"
   ]
  },
  {
   "cell_type": "markdown",
   "metadata": {},
   "source": [
    "Si prefieren un gráfico separado para cada categoría, la codificación ``column`` puede serles de ayuda:"
   ]
  },
  {
   "cell_type": "code",
   "execution_count": null,
   "metadata": {},
   "outputs": [],
   "source": [
    "alt.Chart(iris).mark_bar().encode(\n",
    "    x=alt.X('petalLength', bin=alt.Bin(maxbins=50)),\n",
    "    y='count()',\n",
    "    color='species',\n",
    "    column='species'\n",
    ")"
   ]
  },
  {
   "cell_type": "markdown",
   "metadata": {},
   "source": [
    "El bineado y la agregación también funciona en dos dimensiones; podemos usar el marcador ``rect`` y visualizar el conteo usando el color:"
   ]
  },
  {
   "cell_type": "code",
   "execution_count": null,
   "metadata": {},
   "outputs": [],
   "source": [
    "alt.Chart(iris).mark_rect().encode(\n",
    "    x=alt.X('petalLength', bin=True),\n",
    "    y=alt.Y('sepalLength', bin=True),\n",
    "    color='count()'\n",
    ")"
   ]
  },
  {
   "cell_type": "markdown",
   "metadata": {},
   "source": [
    "Las agregaciones pueden ser mucho más que simple conteo; también podemos agregar y calcular el promedio de una tercera cantidad dentro de cada bin"
   ]
  },
  {
   "cell_type": "code",
   "execution_count": null,
   "metadata": {},
   "outputs": [],
   "source": [
    "alt.Chart(iris).mark_rect().encode(\n",
    "    x=alt.X('petalLength', bin=True),\n",
    "    y=alt.Y('sepalLength', bin=True),\n",
    "    color='mean(petalWidth)'\n",
    ")"
   ]
  },
  {
   "cell_type": "markdown",
   "metadata": {},
   "source": [
    "## 6. Apilado y estratificación ( *Stacking and Layering* )\n",
    "\n",
    "Muchas veces tener una vista con varios paneles puede ser de ayuda para detectar relaciones entre los puntos.\n",
    "Altair provee las funciones ``hconcat()`` y ``vconcat``, y los operadores asociados ``|`` y ``&`` para concatenar gráficos ( notar que ésto es distinto a la vista por columna que vimos más arriba, porque ahora cada panel contiene *todos* los datos)"
   ]
  },
  {
   "cell_type": "code",
   "execution_count": null,
   "metadata": {},
   "outputs": [],
   "source": [
    "chart1 = alt.Chart(iris).mark_point().encode(\n",
    "    x='petalWidth',\n",
    "    y='sepalWidth',\n",
    "    color='species'\n",
    ")\n",
    "\n",
    "chart2 = alt.Chart(iris).mark_point().encode(\n",
    "    x='sepalLength',\n",
    "    y='sepalWidth',\n",
    "    color='species'\n",
    ")\n",
    "\n",
    "chart1 | chart2"
   ]
  },
  {
   "cell_type": "markdown",
   "metadata": {},
   "source": [
    "Un truco muy útil para este tipo de situaciones es crear un gráfico base y concatenar dos copias ligeramente distintas del mismo:"
   ]
  },
  {
   "cell_type": "code",
   "execution_count": null,
   "metadata": {},
   "outputs": [],
   "source": [
    "base = alt.Chart(iris).mark_point().encode(\n",
    "    y='sepalWidth',\n",
    "    color='species'\n",
    ")\n",
    "\n",
    "base.encode(x='petalWidth') | base.encode(x='sepalLength')"
   ]
  },
  {
   "cell_type": "markdown",
   "metadata": {},
   "source": [
    "Otro tipo de gráfico compuesto es el gráfico en capas, construido usando ``alt.layer()`` o equivalentemente el operador ``+``.\n",
    "Por ejemplo, podemos sobreponer puntos sobre el gráfico de los bines con las cuentas que vimos antes:"
   ]
  },
  {
   "cell_type": "code",
   "execution_count": null,
   "metadata": {},
   "outputs": [],
   "source": [
    "counts = alt.Chart(iris).mark_rect(opacity=0.3).encode(\n",
    "    x=alt.X('petalLength', bin=True),\n",
    "    y=alt.Y('sepalLength', bin=True),\n",
    "    color='count()'\n",
    ")\n",
    "\n",
    "points = alt.Chart(iris).mark_point().encode(\n",
    "    x='petalLength',\n",
    "    y='sepalLength',\n",
    "    color='species'\n",
    ")\n",
    "\n",
    "counts + points"
   ]
  },
  {
   "cell_type": "markdown",
   "metadata": {},
   "source": [
    "A continuacióm, en la seccion de interactividad vamos a ver un uso de este tipo de gráficos apilados. "
   ]
  },
  {
   "cell_type": "markdown",
   "metadata": {},
   "source": [
    "## 7. Interactividad: Seleciones\n",
    "\n",
    "Regresemos al gráfico de dispersión, y veamos otros tipos de interactividad que ofrece Altair:"
   ]
  },
  {
   "cell_type": "code",
   "execution_count": null,
   "metadata": {},
   "outputs": [],
   "source": [
    "alt.Chart(iris).mark_point().encode(\n",
    "    x='petalLength',\n",
    "    y='petalWidth',\n",
    "    color='species'\n",
    ")"
   ]
  },
  {
   "cell_type": "markdown",
   "metadata": {},
   "source": [
    "Recuerden que podemos agregar ``interactive()`` al final de cada gráfico para activar las escalas interactivas más básicas:"
   ]
  },
  {
   "cell_type": "code",
   "execution_count": null,
   "metadata": {},
   "outputs": [],
   "source": [
    "alt.Chart(iris).mark_point().encode(\n",
    "    x='petalLength',\n",
    "    y='petalWidth',\n",
    "    color='species'\n",
    ").interactive()"
   ]
  },
  {
   "cell_type": "markdown",
   "metadata": {},
   "source": [
    "Altair brinda una API de general de ``selection`` para crear gráficos interactivos; por ejemplo, podemos seleccionar un intervalo:"
   ]
  },
  {
   "cell_type": "code",
   "execution_count": null,
   "metadata": {},
   "outputs": [],
   "source": [
    "interval = alt.selection_interval()\n",
    "\n",
    "alt.Chart(iris).mark_point().encode(\n",
    "    x='petalLength',\n",
    "    y='petalWidth',\n",
    "    color='species'\n",
    ").properties(\n",
    "    selection=interval\n",
    ")"
   ]
  },
  {
   "cell_type": "markdown",
   "metadata": {},
   "source": [
    "Actualmente esta seleción no hace nada, pero podemos cambiar el color condicionalmente con la selección:"
   ]
  },
  {
   "cell_type": "code",
   "execution_count": null,
   "metadata": {},
   "outputs": [],
   "source": [
    "interval = alt.selection_interval()\n",
    "\n",
    "alt.Chart(iris).mark_point().encode(\n",
    "    x='petalLength',\n",
    "    y='petalWidth',\n",
    "    color=alt.condition(interval, 'species', alt.value('lightgray'))\n",
    ").properties(\n",
    "    selection=interval\n",
    ")"
   ]
  },
  {
   "cell_type": "markdown",
   "metadata": {},
   "source": [
    "Algo muy bueno de esta API de selección es que se aplica *automáticamente* a todo el gráfico compuesto; por ejemplo, podemos concatenar horizontalmente dos gráficos, y como ambos tienen la misma selección, ambos responden apropiadamente:"
   ]
  },
  {
   "cell_type": "code",
   "execution_count": null,
   "metadata": {},
   "outputs": [],
   "source": [
    "interval = alt.selection_interval()\n",
    "\n",
    "base = alt.Chart(iris).mark_point().encode(\n",
    "    y='petalWidth',\n",
    "    color=alt.condition(interval, 'species', alt.value('lightgray'))\n",
    ").properties(\n",
    "    selection=interval\n",
    ")\n",
    "\n",
    "base.encode(x='petalLength') | base.encode(x='sepalLength')"
   ]
  },
  {
   "cell_type": "markdown",
   "metadata": {},
   "source": [
    "Las propiedades del intervalo de selección pueden modificarse fácilmente; por ejemplo, podemos especificar que solo se aplique a la codificación en el eje x:"
   ]
  },
  {
   "cell_type": "code",
   "execution_count": null,
   "metadata": {},
   "outputs": [],
   "source": [
    "interval = alt.selection_interval(encodings=['x'])\n",
    "\n",
    "base = alt.Chart(iris).mark_point().encode(\n",
    "    y='petalWidth',\n",
    "    color=alt.condition(interval, 'species', alt.value('lightgray'))\n",
    ").properties(\n",
    "    selection=interval\n",
    ")\n",
    "\n",
    "base.encode(x='petalLength') | base.encode(x='sepalLength')"
   ]
  },
  {
   "cell_type": "markdown",
   "metadata": {},
   "source": [
    "Aún podemos hacer cosas más sofisticadas usando selecciones.\n",
    "Por ejemplo, hagamos un histograma con el número de registros por especie, y apilémolo al gráfico de dispersión:"
   ]
  },
  {
   "cell_type": "code",
   "execution_count": null,
   "metadata": {},
   "outputs": [],
   "source": [
    "interval = alt.selection_interval()\n",
    "\n",
    "base = alt.Chart(iris).mark_point().encode(\n",
    "    y='petalLength',\n",
    "    color=alt.condition(interval, 'species', alt.value('lightgray'))\n",
    ").properties(\n",
    "    selection=interval\n",
    ")\n",
    "\n",
    "hist = alt.Chart(iris).mark_bar().encode(\n",
    "    x='count()',\n",
    "    y='species',\n",
    "    color='species'\n",
    ").properties(\n",
    "    width=800,\n",
    "    height=80\n",
    ").transform_filter(\n",
    "    interval\n",
    ")\n",
    "\n",
    "scatter = base.encode(x='petalWidth') | base.encode(x='sepalWidth')\n",
    "\n",
    "scatter & hist"
   ]
  },
  {
   "cell_type": "markdown",
   "metadata": {},
   "source": [
    "Esta demostración cubrió un buen número de componentes disponibles en Altair.\n",
    "En las secciones siguientes, vamos a ver cada una de manera un poco más sistemática."
   ]
  }
 ],
 "metadata": {
  "kernelspec": {
   "display_name": "Python 3",
   "language": "python",
   "name": "python3"
  },
  "language_info": {
   "codemirror_mode": {
    "name": "ipython",
    "version": 3
   },
   "file_extension": ".py",
   "mimetype": "text/x-python",
   "name": "python",
   "nbconvert_exporter": "python",
   "pygments_lexer": "ipython3",
   "version": "3.7.0"
  }
 },
 "nbformat": 4,
 "nbformat_minor": 2
}
